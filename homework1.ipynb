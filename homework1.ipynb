{
 "cells": [
  {
   "cell_type": "code",
   "execution_count": 7,
   "id": "746d8a59",
   "metadata": {},
   "outputs": [
    {
     "name": "stdout",
     "output_type": "stream",
     "text": [
      "3\n",
      "6\n",
      "9\n",
      "12\n",
      "15\n",
      "18\n",
      "21\n",
      "24\n",
      "27\n",
      "30\n",
      "33\n",
      "36\n",
      "39\n",
      "42\n",
      "45\n",
      "48\n",
      "51\n",
      "54\n",
      "57\n",
      "60\n",
      "63\n",
      "66\n",
      "69\n",
      "72\n",
      "75\n",
      "78\n",
      "81\n",
      "84\n",
      "87\n",
      "90\n",
      "93\n",
      "96\n",
      "99\n"
     ]
    }
   ],
   "source": [
    "# 1 ~ 100까지의 숫자중 3의 배수만 추려서 출력하도록\n",
    "# 클래스 및 매서드를 프로그래밍 하시오.\n",
    "rangeA = list(range(1, 101))\n",
    "for i in rangeA:\n",
    "    if i % 3 != 0:\n",
    "        continue\n",
    "    print(i)"
   ]
  },
  {
   "cell_type": "code",
   "execution_count": 38,
   "id": "dd3eff1b",
   "metadata": {},
   "outputs": [
    {
     "name": "stdout",
     "output_type": "stream",
     "text": [
      "주사위를 던지시오\n",
      "사용자 A의 주사위는 4\n",
      "사용자 B의 주사위는 5\n",
      "B승 A패\n"
     ]
    }
   ],
   "source": [
    "import random\n",
    "\n",
    "start = input('주사위를 던지시오')\n",
    "\n",
    "userA = random.randrange(1,6)\n",
    "userB = random.randrange(1,6)\n",
    "\n",
    "print(f\"사용자 A의 주사위는 {userA}\")\n",
    "print(f\"사용자 B의 주사위는 {userB}\")\n",
    "\n",
    "if userA > userB:\n",
    "    print('A승 B패.')\n",
    "    \n",
    "elif userA == userB:\n",
    "    print('비겼습니다.')\n",
    "    \n",
    "else:\n",
    "    print('B승 A패')"
   ]
  },
  {
   "cell_type": "code",
   "execution_count": null,
   "id": "b8935252",
   "metadata": {},
   "outputs": [],
   "source": []
  }
 ],
 "metadata": {
  "kernelspec": {
   "display_name": "Python 3",
   "language": "python",
   "name": "python3"
  },
  "language_info": {
   "codemirror_mode": {
    "name": "ipython",
    "version": 3
   },
   "file_extension": ".py",
   "mimetype": "text/x-python",
   "name": "python",
   "nbconvert_exporter": "python",
   "pygments_lexer": "ipython3",
   "version": "3.8.8"
  }
 },
 "nbformat": 4,
 "nbformat_minor": 5
}
