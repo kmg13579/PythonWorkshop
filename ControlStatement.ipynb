{
 "cells": [
  {
   "cell_type": "code",
   "execution_count": 1,
   "id": "552163d4",
   "metadata": {},
   "outputs": [
    {
     "name": "stdout",
     "output_type": "stream",
     "text": [
      "val is bigger than 5\n"
     ]
    }
   ],
   "source": [
    "val = 10\n",
    "\n",
    "if val > 5:\n",
    "    print(\"val is bigger than 5\")"
   ]
  },
  {
   "cell_type": "code",
   "execution_count": 2,
   "id": "cf569bea",
   "metadata": {},
   "outputs": [
    {
     "name": "stdout",
     "output_type": "stream",
     "text": [
      "val is bigger than 5\n"
     ]
    }
   ],
   "source": [
    "val = 1\n",
    "\n",
    "if val > 5:\n",
    "    print(\"test\")\n",
    "    \n",
    "print(\"val is bigger than 5\")"
   ]
  },
  {
   "cell_type": "code",
   "execution_count": 3,
   "id": "2d9a8662",
   "metadata": {},
   "outputs": [
    {
     "name": "stdout",
     "output_type": "stream",
     "text": [
      "banana\n"
     ]
    }
   ],
   "source": [
    "money = 10\n",
    "\n",
    "if money >100:\n",
    "    item = \"apple\"\n",
    "else:\n",
    "    item = \"banana\"\n",
    "        \n",
    "print(item)"
   ]
  },
  {
   "cell_type": "code",
   "execution_count": 4,
   "id": "163292e8",
   "metadata": {},
   "outputs": [
    {
     "name": "stdout",
     "output_type": "stream",
     "text": [
      "Input Score30\n",
      "점수통보! 등급 = F\n"
     ]
    }
   ],
   "source": [
    "score = int(input(('Input Score')))\n",
    "\n",
    "if 90 <= score <= 100:\n",
    "    grade = 'A'\n",
    "elif 80 <= score< 90:\n",
    "    grade = 'B'\n",
    "elif 70 <= score< 90:\n",
    "    grade = 'C'\n",
    "elif 60 <= score< 90:\n",
    "    grade = 'D'\n",
    "else:\n",
    "    grade = 'F'\n",
    "    \n",
    "print('점수통보! 등급 = ' + grade)"
   ]
  },
  {
   "cell_type": "code",
   "execution_count": 5,
   "id": "40e85e7e",
   "metadata": {},
   "outputs": [],
   "source": [
    "#수학, 영어, 국사 시험을 봤다\n",
    "#각각의 점수를 입력하여 토탈 평균이 60점 미만이며\n",
    "#또한 각 과목의 점수들이 50점 미만인 경우에도 탈락 처리를 하도록 한다."
   ]
  },
  {
   "cell_type": "code",
   "execution_count": 6,
   "id": "8c5618dd",
   "metadata": {},
   "outputs": [
    {
     "name": "stdout",
     "output_type": "stream",
     "text": [
      "Input Score70\n",
      "Input Score70\n",
      "Input Score60\n",
      "점수통보! 등급 = 합격\n",
      "점수통보! 등급 = 합격\n",
      "mean:  66.66666666666667\n"
     ]
    }
   ],
   "source": [
    "math = int(input(('Input Score')))\n",
    "english = int(input(('Input Score')))\n",
    "history = int(input(('Input Score')))\n",
    "\n",
    "mean = (math + english + history)/3\n",
    "\n",
    "if mean < 60:\n",
    "    grade = '탈락'\n",
    "elif math< 50:\n",
    "    grade ='탈락'\n",
    "elif english< 50:\n",
    "    grade ='탈락'\n",
    "elif history< 50:\n",
    "    grade ='탈락'\n",
    "else:\n",
    "    grade = '합격'\n",
    "    \n",
    "print('점수통보! 등급 = ' + grade)\n",
    "\n",
    "if (math >= 50 and english >= 50 and history >=50 and mean >= 60):\n",
    "    res = '합격'\n",
    "else:\n",
    "    res = '탈락'\n",
    "    \n",
    "print('점수통보! 등급 = ' + res)\n",
    "print('mean: ', mean)"
   ]
  },
  {
   "cell_type": "code",
   "execution_count": 7,
   "id": "7f3dadf6",
   "metadata": {},
   "outputs": [
    {
     "name": "stdout",
     "output_type": "stream",
     "text": [
      "5\n",
      "4\n",
      "3\n",
      "2\n",
      "1\n"
     ]
    }
   ],
   "source": [
    "# 자바의 경우 중괄호를 사용하지만 파이썬에서는 중괄호 없이 사용함 (:)\n",
    "val = 5\n",
    "\n",
    "while val >0:\n",
    "    print(val)\n",
    "    val -= 1"
   ]
  },
  {
   "cell_type": "code",
   "execution_count": 9,
   "id": "89106bf7",
   "metadata": {},
   "outputs": [
    {
     "name": "stdout",
     "output_type": "stream",
     "text": [
      "Apple <class 'str'>\n",
      "100 <class 'int'>\n",
      "15.33 <class 'float'>\n"
     ]
    }
   ],
   "source": [
    "lists = ['Apple', 100, 15.33]\n",
    "\n",
    "for i in lists:\n",
    "    print(i, type(i))"
   ]
  },
  {
   "cell_type": "code",
   "execution_count": 10,
   "id": "e231f032",
   "metadata": {},
   "outputs": [
    {
     "name": "stdout",
     "output_type": "stream",
     "text": [
      "item: 1\n",
      "item: 2\n",
      "item: 3\n",
      "item: 4\n",
      "item: 5\n"
     ]
    }
   ],
   "source": [
    "numList = [1, 2, 3, 4, 5, 6, 7, 8, 9, 10]\n",
    "\n",
    "for i in numList:\n",
    "    if i > 5:\n",
    "        break\n",
    "    print(\"item: {0}\".format(i))"
   ]
  },
  {
   "cell_type": "code",
   "execution_count": 11,
   "id": "970b4b82",
   "metadata": {},
   "outputs": [
    {
     "name": "stdout",
     "output_type": "stream",
     "text": [
      "item: 1\n",
      "item: 3\n",
      "item: 5\n",
      "item: 7\n",
      "item: 9\n"
     ]
    }
   ],
   "source": [
    "for i in numList:\n",
    "    if i %2 ==0:\n",
    "        continue        \n",
    "    print(\"item: {0}\".format(i))"
   ]
  },
  {
   "cell_type": "code",
   "execution_count": 16,
   "id": "4799a8ff",
   "metadata": {},
   "outputs": [
    {
     "name": "stdout",
     "output_type": "stream",
     "text": [
      "[0, 1, 2, 3, 4, 5, 6, 7, 8, 9]\n"
     ]
    }
   ],
   "source": [
    "#range_num = range(10)\n",
    "#range_list = list(range_num)\n",
    "#print(range_list)\n",
    "\n",
    "print(list(range(10)))"
   ]
  },
  {
   "cell_type": "code",
   "execution_count": 17,
   "id": "17375f78",
   "metadata": {},
   "outputs": [
    {
     "name": "stdout",
     "output_type": "stream",
     "text": [
      "[5, 6, 7, 8, 9]\n"
     ]
    }
   ],
   "source": [
    "print(list(range(5, 10)))"
   ]
  },
  {
   "cell_type": "code",
   "execution_count": 18,
   "id": "bf89bf8f",
   "metadata": {},
   "outputs": [
    {
     "name": "stdout",
     "output_type": "stream",
     "text": [
      "[10, 9, 8, 7, 6, 5, 4, 3, 2, 1]\n"
     ]
    }
   ],
   "source": [
    "print(list(range(10, 0, -1)))"
   ]
  },
  {
   "cell_type": "code",
   "execution_count": 19,
   "id": "ac6c8ce2",
   "metadata": {},
   "outputs": [
    {
     "name": "stdout",
     "output_type": "stream",
     "text": [
      "[10, 12, 14, 16, 18]\n"
     ]
    }
   ],
   "source": [
    "print(list(range(10, 20, 2)))"
   ]
  },
  {
   "cell_type": "code",
   "execution_count": 21,
   "id": "94bd53d6",
   "metadata": {},
   "outputs": [
    {
     "name": "stdout",
     "output_type": "stream",
     "text": [
      "[1, 2, 3, 4, 5, 6, 7, 8, 9, 10]\n"
     ]
    }
   ],
   "source": [
    "numList = list(range(1, 11))\n",
    "print(numList)"
   ]
  },
  {
   "cell_type": "code",
   "execution_count": 26,
   "id": "4f5b023a",
   "metadata": {},
   "outputs": [
    {
     "name": "stdout",
     "output_type": "stream",
     "text": [
      "idx: 0, val: Apple\n",
      "idx: 1, val: Orange\n",
      "idx: 2, val: Grape\n",
      "idx: 3, val: Banana\n"
     ]
    }
   ],
   "source": [
    "#print에 { } 넣으면 해당값이 넣어진다.\n",
    "strList = [\"Apple\", 'Orange', 'Grape', 'Banana']\n",
    "\n",
    "for i in range(len(strList)):\n",
    "    print(\"idx: {0}, val: {1}\".format(i,strList[i]))"
   ]
  },
  {
   "cell_type": "code",
   "execution_count": 30,
   "id": "fbff66af",
   "metadata": {},
   "outputs": [
    {
     "name": "stdout",
     "output_type": "stream",
     "text": [
      "(0, 100)\n",
      "(1, 33.7)\n",
      "(2, 'Grape')\n"
     ]
    }
   ],
   "source": [
    "# list는 키(index 등) value값이 정해진다(json 형식)\n",
    "varList = [100, 33.7, 'Grape']\n",
    "\n",
    "for i in enumerate(varList):\n",
    "    print(i)"
   ]
  },
  {
   "cell_type": "code",
   "execution_count": 32,
   "id": "2cd601e7",
   "metadata": {},
   "outputs": [
    {
     "name": "stdout",
     "output_type": "stream",
     "text": [
      "[4.5, -1.5, 12, 6.0, -2.0, 16, 7.5, -2.5, 20]\n"
     ]
    }
   ],
   "source": [
    "numList1 = [3,4,5]\n",
    "numList2 = [1.5, -0.5, 4]\n",
    "#[]감싸는 것은 list\n",
    "# 3*1.5 3 * -0.5 ... / 4*1.5 ... / ...\n",
    "print([x * y for x in numList1 for y in numList2])\n",
    "#파이썬만의 특징 numList 1, 2에서 뽑아온 x, y를 곱하기\n",
    "resLists = [x * y for x in numList1 for y in numList2]\n",
    "print(resLists)\n",
    "print(type(resLists))"
   ]
  },
  {
   "cell_type": "code",
   "execution_count": null,
   "id": "941ba336",
   "metadata": {},
   "outputs": [],
   "source": []
  },
  {
   "cell_type": "code",
   "execution_count": null,
   "id": "f0283cad",
   "metadata": {},
   "outputs": [],
   "source": []
  },
  {
   "cell_type": "code",
   "execution_count": null,
   "id": "0f364b59",
   "metadata": {},
   "outputs": [],
   "source": []
  }
 ],
 "metadata": {
  "kernelspec": {
   "display_name": "Python 3",
   "language": "python",
   "name": "python3"
  },
  "language_info": {
   "codemirror_mode": {
    "name": "ipython",
    "version": 3
   },
   "file_extension": ".py",
   "mimetype": "text/x-python",
   "name": "python",
   "nbconvert_exporter": "python",
   "pygments_lexer": "ipython3",
   "version": "3.8.8"
  }
 },
 "nbformat": 4,
 "nbformat_minor": 5
}
