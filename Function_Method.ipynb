{
 "cells": [
  {
   "cell_type": "code",
   "execution_count": 2,
   "id": "b07c65f5",
   "metadata": {},
   "outputs": [
    {
     "name": "stdout",
     "output_type": "stream",
     "text": [
      "<function times at 0x000001A5D613F430>\n",
      "100\n",
      "<class 'function'>\n"
     ]
    }
   ],
   "source": [
    "# 함수, 파라미터의 변수 지정을 따로 하지 않는다는 차이점이 있다\n",
    "def times(a,b):\n",
    "    return a*b\n",
    "\n",
    "print(times)\n",
    "print(times(10, 10))\n",
    "print(type(times))"
   ]
  },
  {
   "cell_type": "code",
   "execution_count": 3,
   "id": "f4c14af4",
   "metadata": {},
   "outputs": [
    {
     "name": "stdout",
     "output_type": "stream",
     "text": [
      "{'__name__': '__main__', '__doc__': 'Automatically created module for IPython interactive environment', '__package__': None, '__loader__': None, '__spec__': None, '__builtin__': <module 'builtins' (built-in)>, '__builtins__': <module 'builtins' (built-in)>, '_ih': ['', 'def times(a,b):\\n    return a*b\\n\\nprint(times)\\nprint(times(10, 10))\\nprint(type(times))', 'def times(a,b):\\n    return a*b\\n\\nprint(times)\\nprint(times(10, 10))\\nprint(type(times))', 'print(globals())'], '_oh': {}, '_dh': ['C:\\\\Users\\\\980st\\\\python_works\\\\PythonWorkshop'], 'In': ['', 'def times(a,b):\\n    return a*b\\n\\nprint(times)\\nprint(times(10, 10))\\nprint(type(times))', 'def times(a,b):\\n    return a*b\\n\\nprint(times)\\nprint(times(10, 10))\\nprint(type(times))', 'print(globals())'], 'Out': {}, 'get_ipython': <bound method InteractiveShell.get_ipython of <ipykernel.zmqshell.ZMQInteractiveShell object at 0x000001A5D6072850>>, 'exit': <IPython.core.autocall.ZMQExitAutocall object at 0x000001A5D60E2580>, 'quit': <IPython.core.autocall.ZMQExitAutocall object at 0x000001A5D60E2580>, '_': '', '__': '', '___': '', '_i': 'def times(a,b):\\n    return a*b\\n\\nprint(times)\\nprint(times(10, 10))\\nprint(type(times))', '_ii': 'def times(a,b):\\n    return a*b\\n\\nprint(times)\\nprint(times(10, 10))\\nprint(type(times))', '_iii': '', '_i1': 'def times(a,b):\\n    return a*b\\n\\nprint(times)\\nprint(times(10, 10))\\nprint(type(times))', 'times': <function times at 0x000001A5D613F430>, '_i2': 'def times(a,b):\\n    return a*b\\n\\nprint(times)\\nprint(times(10, 10))\\nprint(type(times))', '_i3': 'print(globals())'}\n"
     ]
    }
   ],
   "source": [
    "print(globals())"
   ]
  },
  {
   "cell_type": "code",
   "execution_count": 6,
   "id": "d451509f",
   "metadata": {},
   "outputs": [
    {
     "name": "stdout",
     "output_type": "stream",
     "text": [
      "100\n",
      "<function times at 0x000001A5D613F430>\n"
     ]
    }
   ],
   "source": [
    "# 위에서 times라는 함수의 주소는 0x000001A5D613F430로 출력되었다.\n",
    "# 이것이 의미하는 바는 상당히 중요한 부분이다.\n",
    "# 먼저 운영체제(OS)에서 가상 메모리와 물리 메모리의 개념을 이해하는 것이 중요한데\n",
    "# 사실상 이 두가지 개념을 설명하자면 커널부터 페이징 메커니즘 등등 설명할 것이 너무 많으므로\n",
    "# 우선은 가상 메모리 관점에서만 설명하도록 한다.\n",
    "\n",
    "# 가상 메모리: 일반적으로 리눅스, 맥, 윈도우의 운영체제는 가상메모리를 물리메모리로 변환하는 페이징(Paging) 메커니즘을 기반으로 동작한다\n",
    "# 즉 우리가 보고 있는 모든 주소값(포인터)는 전부 가상 메모리다.\n",
    "# 근데 일전에도 가볍게 소개하였듯이 프로그래머가 반드시 알아야 하는 메모리구성 4가지가 있다.\n",
    "# Stack(스택), Healp(힙), Data(데이터), Text 혹은 Code(텍스트 혹은 코드)\n",
    "# Stack의 경우 지역 변수가 배치되는 영역이며 가상 메모리 최상단에 배치된다.\n",
    "# Heap의 경우 new, malloc(C계열)로 할당된 메모리들이 배치되며\n",
    "# Stack은 위에서 아래로 증가하고 Healp은 아래에서 위로 올라가는 구조다.\n",
    "# Data의 경우 전역 변수가 배치되며 Heap 아래쪽에 있고 Text 위에 있다.\n",
    "# Text의 경우 우리가 사용하는 프로그램의 기계어(어셈블리어)에 해당한다.\n",
    "# 이 내용은 가상 메모리 최하단에 배치되게 구성된다.\n",
    "\n",
    "# 여기서 또 중요한 사항은 가상 메모리는 2가지 영역으로 분리된다는 것이다.\n",
    "# 상단은 커널(운영체제), 하단은 유저(사용자) 영역으로 분리가 되며,\n",
    "# 전체 가상 메모리는 커널의 메모리 관리 체계에 의해 제어된다.\n",
    "# 실제 64비트 운영체제의 경우 가상 메모리가 절반 뚝 잘라서 커널과 사용자로 나뉨\n",
    "# 0xfffffff ffffffff가 64비트가 표현할 수 있는 최대치다.\n",
    "# 그러므로 0 ~ 0x7fffffff ffffffff 까지가 하단 (유저 영역)\n",
    "# 0x80000000 00000000 ~ 0xffffffff ffffffff까지가 상단(커널 영역)이다.\n",
    "# 이 관점에서 위의 times의 주소값인 0x000001A5D613F430을 보자면\n",
    "# 사용자 영역에 해당하는 하단에 배치된 것을 알 수 있다.\n",
    "# 뿐만 아니라 하단의 거의 최하단에 배치되어 있음을 볼 수 있다(숫자상 앞에가 죄다 0)\n",
    "# 그러므로 이 녀석은 위의 가상 메모리 구성상에서 Text에 해당함을 알 수 있다.\n",
    "\n",
    "# 실제 C, C++, Java, Python, Golang, Rust, Kotlin 등등 어 떤 언어든지\n",
    "# 모든 이와 같은 프로그램 동작 구조를 가지고 컴퓨터상에서 동작함\n",
    "# 모든 기계어는 결국 Text에 배치된다는 것임\n",
    "\n",
    "# 우리가 사용하는 모든 데이터는 어디에 올라가야 한다? \n",
    "# 메모리(물리 메모리 <-- 가상 메모리를 거쳐)\n",
    "\n",
    "#  [0]  [1]  [2]  [3]  [4]  프로그램 편의상의 인덱스(가상)\n",
    "# 0xb0 0xb4 0xb8 0xbc 0xc0  메모리 주소(실제 하드웨어)\n",
    "# 데이터들                  특정 메모리 주소 안에 데이터들이 들어있는 것임\n",
    "\n",
    "#현재 잘 보면 인덱스는 결국 주소임, 변수도 저장하는 공간으로서의 주소임\n",
    "# 그럼 이 주소공간안에 주소를 넣을 수 있을까?\n",
    "# 가만 보니까 함수(매서드)도 주소가 있네? 그럼 메모리에 넣어서 저장할 수 있을까?(이 개념이 아래의 pointerOfFunction = times)\n",
    "\n",
    "# 함수에 times의 값을 저장한 것\n",
    "pointerOfFunction = times\n",
    "res = pointerOfFunction(10, 10) #Java interface는 내부적으로 요렇게 구현됨\n",
    "print(res)\n",
    "print(times)"
   ]
  },
  {
   "cell_type": "code",
   "execution_count": 7,
   "id": "091c5011",
   "metadata": {},
   "outputs": [
    {
     "name": "stdout",
     "output_type": "stream",
     "text": [
      "Hello 이것이 Java interface이자 C언어 함수 포인터의  묘미!\n"
     ]
    }
   ],
   "source": [
    "def test():\n",
    "    return \"Hello 이것이 Java interface이자 C언어 함수 포인터의  묘미!\"\n",
    "\n",
    "pointerOfFunction = test\n",
    "\n",
    "# C++로 치면 virtual이 interface와 같은 역할을 수행함\n",
    "# 실제 C로 작성할 경우 리턴 타입과 파라미터를 맞춰야 해서\n",
    "# 굉장히 해괴한 문법을 사용하게 되는 반면, 파이썬은 아래와 같이 아주 편하게 작성이 가능하다.\n",
    "\n",
    "# ex) C 계열에서 signal이라는 인터럽트 함수가 있는데 프로토타입이 아래와 같다.\n",
    "# (void) (*signal(int signo, void (*handler)(int)))(int);\n",
    "# 리턴 타입 void (*)(int)\n",
    "# 함수이름 signal\n",
    "# 입력 int signo, void (*handler)(int)\n",
    "# 분리하고 보면 리턴타입이 함수 포인터\n",
    "# 이름은 시그널\n",
    "# 입력은 정수형과 함수 포인터임을 볼 수 있으나\n",
    "# 초기 프로토타입 형태로는 굉장히 해괴한 문법이 구성되어 있음을 볼 수 있다.\n",
    "# (void) (*signal(int signo, void (*handler)(int)))(int); <<<\n",
    "\n",
    "res = pointerOfFunction()\n",
    "print(res)"
   ]
  },
  {
   "cell_type": "code",
   "execution_count": 12,
   "id": "0b2b3fe6",
   "metadata": {},
   "outputs": [
    {
     "name": "stdout",
     "output_type": "stream",
     "text": [
      "['p', 'p', 'e']\n",
      "<function intersect at 0x000001A5D7A080D0>\n"
     ]
    }
   ],
   "source": [
    "# prelist = list1 / postlist = list2 대입하여 메서드 실행\n",
    "def intersect(prelist, postlist):\n",
    "    retList = []\n",
    "    \n",
    "    #파이썬의 forEach문\n",
    "    for x in prelist:   # list1의 Apple의 A를 하나 가져온다.\n",
    "        if x in postlist: #list2의 grape를 가져온다\n",
    "            retList.append(x) # 비교하여 공통된것을 추출한다.\n",
    "            \n",
    "    return retList\n",
    "\n",
    "# 위는 메서드이므로 아래내용에 따라 메서드가 실행(입력) 된다.\n",
    "list1 = 'Apple'\n",
    "list2 = 'grape'\n",
    "\n",
    "print(intersect(list1, list2))\n"
   ]
  },
  {
   "cell_type": "code",
   "execution_count": 13,
   "id": "8687932d",
   "metadata": {},
   "outputs": [
    {
     "name": "stdout",
     "output_type": "stream",
     "text": [
      "['A']\n"
     ]
    }
   ],
   "source": [
    "print(intersect(list1, ['H', 'A', 'M']))"
   ]
  },
  {
   "cell_type": "code",
   "execution_count": 14,
   "id": "17b910c1",
   "metadata": {},
   "outputs": [
    {
     "name": "stdout",
     "output_type": "stream",
     "text": [
      "(7, 3)\n"
     ]
    }
   ],
   "source": [
    "# swap하게되면 결과값이 뒤바뀌어 들어가게된다.\n",
    "def swap(x, y):\n",
    "    # 원래 리턴은 하나만 할 수 있다 <<<<---- 일반적인 프로그래밍 패러다임\n",
    "    return y, x # ,z ,d 등 더 추가할 수 있다.\n",
    "\n",
    "print(swap(3, 7))\n",
    "\n",
    "# 기존의 자바에서는 아래와 같이 하였음. x, y값이 변하지 않기에 tmp값에 임시로 값을 저장하여 처리\n",
    "int tmp = x\n",
    "x = y\n",
    "y = tmp"
   ]
  },
  {
   "cell_type": "code",
   "execution_count": 17,
   "id": "0ece7c3e",
   "metadata": {},
   "outputs": [
    {
     "name": "stdout",
     "output_type": "stream",
     "text": [
      "77\n",
      "33\n"
     ]
    }
   ],
   "source": [
    "# 기존 Java나 C의 경우 프로그램 구조적인 부분을 고려해야하는 반면\n",
    "# 파이썬 프로그래밍은 이런것을 일절 신경쓰지 않고\n",
    "# 그냥 머리속의 생각을 굉장히 직관적으로 표기하여 사용할 수 있다는 장점이 있음\n",
    "a, b = swap(33, 77)\n",
    "print(a)\n",
    "print(b)"
   ]
  },
  {
   "cell_type": "code",
   "execution_count": 18,
   "id": "7c69faf1",
   "metadata": {},
   "outputs": [
    {
     "name": "stdout",
     "output_type": "stream",
     "text": [
      "(777, 333)\n",
      "<class 'tuple'>\n"
     ]
    }
   ],
   "source": [
    "x = swap(333, 777)\n",
    "print(x)\n",
    "print(type(x))\n",
    "# class 'tuple'\n",
    "# tuple(튜플)은 변경 불가능한 리스트라 생각하면 됨\n",
    "# 변경이 불가능하다란 ? 불변(immutable)\n",
    "# 즉 const의 형식을 따르고 있다는 의미임\n",
    "\n",
    "# 우리가 final을 사용했던 이유는?\n",
    "# 수십 ~ 수백명이 프로젝트를 함께 진행할 경우\n",
    "# 빠른 생산성으로 인해 상호간 정보교환은 깃에 올리는 코드로 모든 소통을 대부분 진행하게 된다.\n",
    "#  결론 : 바꾸면 안되는 것을 바꿔서 팀 작업에 혼선을 유발할 수 있는 경우에는\n",
    "#         미리 튜플(고정값)으로 만들어서 변경이 불가능하게 만들기 위함\n",
    "#         사전에 문제가 발생할 수도 있는 부분을 원천 차단하는 역할이다."
   ]
  },
  {
   "cell_type": "code",
   "execution_count": 20,
   "id": "26e444cd",
   "metadata": {},
   "outputs": [
    {
     "name": "stdout",
     "output_type": "stream",
     "text": [
      "30\n"
     ]
    }
   ],
   "source": [
    "a = 10\n",
    "b = 20\n",
    "\n",
    "def mysum(x, y):\n",
    "    return x + y\n",
    "print(mysum(a, b))"
   ]
  },
  {
   "cell_type": "code",
   "execution_count": 21,
   "id": "93e57bb1",
   "metadata": {},
   "outputs": [
    {
     "name": "stdout",
     "output_type": "stream",
     "text": [
      "11\n",
      "10\n"
     ]
    }
   ],
   "source": [
    "x = 10\n",
    "# 2) x에 10 y에 10이 들어간다\n",
    "def mysum2(x, y):\n",
    "# x가 10에서 1로 바뀐다. 따라서 1 + 10이되어 11이 된다.\n",
    "    x = 1\n",
    "    return x + y\n",
    "\n",
    "# 1) x에 10과 10이 들어간다\n",
    "print(mysum2(x, x))\n",
    "print(x)"
   ]
  },
  {
   "cell_type": "code",
   "execution_count": 23,
   "id": "bf5d7b05",
   "metadata": {},
   "outputs": [
    {
     "name": "stdout",
     "output_type": "stream",
     "text": [
      "1\n",
      "10\n",
      "7\n"
     ]
    }
   ],
   "source": [
    "glob = 1\n",
    "print(glob)\n",
    "\n",
    "def exch_scope(x):\n",
    "    # global 키워드가 있으면\n",
    "    # 해당 변수를 지역변수가 아닌 전역변수로서 활용한다.\n",
    "    global glob\n",
    "    glob = 7\n",
    "    return glob + x\n",
    "\n",
    "print(exch_scope(3))\n",
    "print(glob)"
   ]
  },
  {
   "cell_type": "code",
   "execution_count": 24,
   "id": "d8a94a2f",
   "metadata": {},
   "outputs": [
    {
     "name": "stdout",
     "output_type": "stream",
     "text": [
      "6\n"
     ]
    }
   ],
   "source": [
    "# 이것은 결국 함수 이름이 g나 마찬가지인 구조\n",
    "# function을 간소화하기 위하여 람다식 사용\n",
    "# lamba x, y 인자를 x, y 2개 받겠다\n",
    "# 옆의 : x * y 는 어떻게 사용하겠다\n",
    "\n",
    "g = lambda x, y: x * y\n",
    "print(g(2,3))"
   ]
  },
  {
   "cell_type": "code",
   "execution_count": 26,
   "id": "b89ccb1d",
   "metadata": {},
   "outputs": [
    {
     "name": "stdout",
     "output_type": "stream",
     "text": [
      "9\n"
     ]
    }
   ],
   "source": [
    "# 이와 같이 한다면 함수 객체를 저장하는 변수가 없으므로 익명 함수가 됨(1회용, 재활용 불가)\n",
    "print((lambda x: x * x * x)(3))"
   ]
  },
  {
   "cell_type": "code",
   "execution_count": 27,
   "id": "ca697f99",
   "metadata": {},
   "outputs": [
    {
     "name": "stdout",
     "output_type": "stream",
     "text": [
      "1\n",
      "2\n",
      "4\n"
     ]
    }
   ],
   "source": [
    "for i in range(1, 5):\n",
    "    if (i == 3):\n",
    "        pass\n",
    "    else:\n",
    "        print(i)"
   ]
  },
  {
   "cell_type": "code",
   "execution_count": 28,
   "id": "a9e9ebb0",
   "metadata": {},
   "outputs": [
    {
     "name": "stdout",
     "output_type": "stream",
     "text": [
      "0 1\n",
      "1 1\n",
      "2 2\n",
      "3 3\n",
      "4 5\n",
      "5 8\n",
      "6 13\n",
      "7 21\n",
      "8 34\n",
      "9 55\n",
      "10 89\n",
      "11 144\n",
      "12 233\n",
      "13 377\n",
      "14 610\n",
      "15 987\n",
      "16 1597\n",
      "17 2584\n",
      "18 4181\n",
      "19 6765\n"
     ]
    }
   ],
   "source": [
    "def fib():\n",
    "    # a =1  b =1과 같음\n",
    "    a, b = 1, 1\n",
    "    # while 1이므로 무조건 참\n",
    "    # ex)\n",
    "    # for (;;) <<--- 무한 루프 조건 없으니 ---> 무조건\n",
    "    # while (1) <<--- 이것도 무조건\n",
    "    # while (참) <<== 0이 아니면 전부 참\n",
    "    while 1:\n",
    "    # Yield는 함수가 제너레이터를 반환한다는 것을 제외하고 return과 비슷하게 사용되는 키워드\n",
    "    # 현재 실행 스택 메모리를 유지하면서 결과값을 호출한곳에 돌려준다.\n",
    "        yield a\n",
    "        a, b = b, a + b\n",
    "        \n",
    "for i, ret in enumerate(fib()):\n",
    "    if i < 20:\n",
    "        print(i, ret)\n",
    "    else:\n",
    "        break"
   ]
  },
  {
   "cell_type": "code",
   "execution_count": 29,
   "id": "62a5473b",
   "metadata": {},
   "outputs": [
    {
     "data": {
      "text/plain": [
       "<generator object fib at 0x000001A5D7BE8F20>"
      ]
     },
     "execution_count": 29,
     "metadata": {},
     "output_type": "execute_result"
    }
   ],
   "source": [
    "fib()"
   ]
  },
  {
   "cell_type": "code",
   "execution_count": 31,
   "id": "dc2ba3db",
   "metadata": {},
   "outputs": [
    {
     "name": "stdout",
     "output_type": "stream",
     "text": [
      "6765\n"
     ]
    }
   ],
   "source": [
    "def fib2(n):\n",
    "    if n <2:\n",
    "        return n\n",
    "    else:\n",
    "        return fib2(n -1) + fib2(n-2)\n",
    "    \n",
    "print(fib2(20))"
   ]
  },
  {
   "cell_type": "code",
   "execution_count": null,
   "id": "6a738e32",
   "metadata": {},
   "outputs": [],
   "source": []
  }
 ],
 "metadata": {
  "kernelspec": {
   "display_name": "Python 3",
   "language": "python",
   "name": "python3"
  },
  "language_info": {
   "codemirror_mode": {
    "name": "ipython",
    "version": 3
   },
   "file_extension": ".py",
   "mimetype": "text/x-python",
   "name": "python",
   "nbconvert_exporter": "python",
   "pygments_lexer": "ipython3",
   "version": "3.8.8"
  }
 },
 "nbformat": 4,
 "nbformat_minor": 5
}
