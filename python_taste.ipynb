{
 "cells": [
  {
   "cell_type": "code",
   "execution_count": 9,
   "id": "51e9731e",
   "metadata": {},
   "outputs": [],
   "source": [
    "# 파이썬에서 주속은 '#'으로 작성합니다."
   ]
  },
  {
   "cell_type": "code",
   "execution_count": null,
   "id": "3f185c5a",
   "metadata": {},
   "outputs": [],
   "source": [
    "### File Wirte\n",
    "data = \"hello\"\n",
    "with open(\"test.txt\", \"w\") as fp:\n",
    "    fp.write(data)"
   ]
  },
  {
   "cell_type": "code",
   "execution_count": 12,
   "id": "42b43ae0",
   "metadata": {},
   "outputs": [
    {
     "name": "stdout",
     "output_type": "stream",
     "text": [
      "파이썬 x쉽네 ?\n",
      "hello\n"
     ]
    }
   ],
   "source": [
    "### File Read\n",
    "with open(\"test.txt\", \"r\") as fp:\n",
    "    print(\"파이썬 x쉽네 ?\")\n",
    "    print(fp.read())"
   ]
  },
  {
   "cell_type": "code",
   "execution_count": 14,
   "id": "025c4f52",
   "metadata": {},
   "outputs": [
    {
     "name": "stdout",
     "output_type": "stream",
     "text": [
      " C 드라이브의 볼륨에는 이름이 없습니다.\n",
      " 볼륨 일련 번호: A28E-3DF8\n",
      "\n",
      " C:\\Users\\980st\\python_works\\PythonWorkshop 디렉터리\n",
      "\n",
      "2021-09-17  오후 06:11    <DIR>          .\n",
      "2021-09-17  오후 06:11    <DIR>          ..\n",
      "2021-09-17  오후 05:49             1,928 .gitignore\n",
      "2021-09-17  오후 06:05    <DIR>          .ipynb_checkpoints\n",
      "2021-09-17  오후 06:11             3,730 python_taste.ipynb\n",
      "2021-09-17  오후 05:49                51 README.md\n",
      "2021-09-17  오후 06:11                 5 test.txt\n",
      "2021-09-17  오후 05:59                72 Untitled1.ipynb\n",
      "               5개 파일               5,786 바이트\n",
      "               3개 디렉터리  470,387,154,944 바이트 남음\n"
     ]
    }
   ],
   "source": [
    "# Windows\n",
    "!dir"
   ]
  },
  {
   "cell_type": "code",
   "execution_count": 15,
   "id": "1e095803",
   "metadata": {},
   "outputs": [
    {
     "name": "stdout",
     "output_type": "stream",
     "text": [
      "hello\n"
     ]
    }
   ],
   "source": [
    "# Windows\n",
    "!type test.txt"
   ]
  },
  {
   "cell_type": "code",
   "execution_count": null,
   "id": "008c6ffe",
   "metadata": {},
   "outputs": [],
   "source": []
  }
 ],
 "metadata": {
  "kernelspec": {
   "display_name": "Python 3",
   "language": "python",
   "name": "python3"
  },
  "language_info": {
   "codemirror_mode": {
    "name": "ipython",
    "version": 3
   },
   "file_extension": ".py",
   "mimetype": "text/x-python",
   "name": "python",
   "nbconvert_exporter": "python",
   "pygments_lexer": "ipython3",
   "version": "3.8.8"
  }
 },
 "nbformat": 4,
 "nbformat_minor": 5
}
